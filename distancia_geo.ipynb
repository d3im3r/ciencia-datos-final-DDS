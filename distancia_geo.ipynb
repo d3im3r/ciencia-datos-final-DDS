{
 "cells": [
  {
   "attachments": {},
   "cell_type": "markdown",
   "metadata": {},
   "source": [
    "# **Funciones**"
   ]
  },
  {
   "cell_type": "code",
   "execution_count": null,
   "metadata": {},
   "outputs": [],
   "source": [
    "#librerías\n",
    "import gpxpy\n",
    "import pandas as pd\n",
    "import os\n",
    "from geopy.distance import geodesic\n",
    "from datetime import timedelta\n",
    "import numpy as np\n",
    "import plotly.graph_objects as go\n",
    "import re\n",
    "\n"
   ]
  },
  {
   "cell_type": "code",
   "execution_count": null,
   "metadata": {},
   "outputs": [],
   "source": [
    "\n",
    "# Función que carga los datos desde el gpx a df\n",
    "def read_gpx(file: str) -> pd.DataFrame:\n",
    "    df = None\n",
    "    points = []\n",
    "    with open(file) as f:\n",
    "        gpx = gpxpy.parse(f)\n",
    "    for segment in gpx.tracks[0].segments:\n",
    "        for p in segment.points:\n",
    "            points.append({\n",
    "                'time': p.time,\n",
    "                'latitude': p.latitude,\n",
    "                'Longitude': p. longitude,\n",
    "                'elevation': p.elevation\n",
    "            })\n",
    "    df = pd.DataFrame.from_records(points)\n",
    "    return df"
   ]
  },
  {
   "cell_type": "code",
   "execution_count": null,
   "metadata": {},
   "outputs": [],
   "source": [
    "#Funcion para almacenar df en csv\n",
    "\n",
    "def save_to_csv(df, filename):\n",
    "    if not filename.endswith('.csv'):\n",
    "        filename += '.csv'\n",
    "    \n",
    "    try:\n",
    "        df.to_csv(filename, index=False)\n",
    "        print(f\"Data saved to {os.getcwd()}/{filename}\")\n",
    "    except Exception as e:\n",
    "        print(f\"Error: {e}\")\n"
   ]
  },
  {
   "cell_type": "code",
   "execution_count": null,
   "metadata": {},
   "outputs": [],
   "source": [
    "##Funcion para calcular distancia geodesica entre puntos y diferencia de tiempo \n",
    "\n",
    "def calcular_distancia_geodesica_time(df, lat_col='latitude', long_col='Longitude',time_col='time'):\n",
    "    # Crear una nueva columna de latitud y longitud juntas\n",
    "    df['lat_long'] = df[[lat_col, long_col]].apply(tuple, axis=1)\n",
    "\n",
    "    # Función para calcular la distancia geodésica entre dos puntos\n",
    "    def calcular_distancia(row):\n",
    "        punto_a = (row[lat_col], row[long_col])\n",
    "        punto_b = (df.loc[row.name + 1, lat_col:long_col]\n",
    "                   if row.name < len(df) - 1 else punto_a)\n",
    "        return geodesic(punto_a, punto_b).km\n",
    "\n",
    "    def diferencia_tiempo(df,time_col='time',factor_correccion=1):\n",
    "         # Convertir la columna de tiempo al formato de fecha y hora de pandas\n",
    "        df[time_col] = pd.to_datetime(df[time_col])\n",
    "\n",
    "        # Ordenar el DataFrame por la columna de tiempo en orden ascendente\n",
    "        df.sort_values(time_col, inplace=True)\n",
    "\n",
    "        # Calcular la diferencia de tiempo entre pares de filas consecutivas\n",
    "        df['diferencia_tiempo_segundos'] = (df['time'] - df['time'].shift(1)).dt.total_seconds().fillna(0) * factor_correccion\n",
    "        \n",
    "        # Calcular la diferencia de tiempo en horas\n",
    "        df['diferencia_tiempo_horas'] = df['diferencia_tiempo_segundos'] / 3600\n",
    "\n",
    "        df = df[df['distancia_geodesica_km'] <= 0.1]\n",
    "        df = df[df['diferencia_tiempo_segundos'] <= 60]\n",
    "        return df\n",
    "\n",
    "\n",
    "    # Calcular la distancia geodésica entre pares de puntos consecutivos\n",
    "    df['distancia_geodesica_km'] = df.apply(calcular_distancia, axis=1)\n",
    "\n",
    "    # Eliminar la columna de latitud y longitud juntas\n",
    "    df = df.drop('lat_long', axis=1)\n",
    "\n",
    "    df = diferencia_tiempo(df)\n",
    "\n",
    "    # Devolver el DataFrame con la columna adicional de distancia geodésica\n",
    "    return df\n"
   ]
  },
  {
   "cell_type": "code",
   "execution_count": null,
   "metadata": {},
   "outputs": [],
   "source": [
    "##Funcion para calcular velocidad media e instantanea\n",
    "def calcular_rapidez(df, dist_col='distancia_geodesica_km', time_col='diferencia_tiempo_segundos'):\n",
    "    # Calcular la rapidez media en km/h\n",
    "    df['rapidez_media_km_s'] = df[dist_col].abs() / df[time_col]\n",
    "    df['rapidez_media_km_h'] = df[dist_col].abs() / df[time_col]*3600\n",
    "    # Asignar un valor cero a la primera fila para evitar NaN o inf\n",
    "    df.fillna(0, inplace=True)\n",
    "    df.replace([np.inf, -np.inf], 0, inplace=True)\n",
    "    \n",
    "    df = df[df['rapidez_media_km_h'] <= 100]\n",
    "    \n",
    "    # Devolver el DataFrame con las columnas adicionales de velocidad\n",
    "    return df\n",
    "\n"
   ]
  },
  {
   "cell_type": "code",
   "execution_count": null,
   "metadata": {},
   "outputs": [],
   "source": [
    "#Funcion para graficar\n",
    "def plot_vel(df, cols, labels):\n",
    "    for i in range(len(cols)):\n",
    "        fig = go.Figure()\n",
    "        fig.add_trace(go.Scatter(x=df['time'], y=df[cols[i]], mode='lines', name=f'{labels[i]}'))\n",
    "        yaxis=re.search('\\((.*?)\\)', labels[i]).group(1)\n",
    "        fig.update_layout(title=f'{labels[i]}', xaxis_title='Time', yaxis_title=yaxis)\n",
    "        fig.show()"
   ]
  },
  {
   "attachments": {},
   "cell_type": "markdown",
   "metadata": {},
   "source": [
    "# **Ejecución**"
   ]
  },
  {
   "cell_type": "code",
   "execution_count": null,
   "metadata": {},
   "outputs": [],
   "source": [
    "#Carga de datos\n",
    "module_path = os.path.dirname(\"__file__\")\n",
    "folder_path = os.path.join(module_path, \"data_raw/\")\n",
    "\n",
    "df1 = read_gpx(folder_path+'recovery.01-Mar-2022-1533.gpx')\n",
    "df2 = read_gpx(folder_path+'recovery.05-Mar-2022.1025.gpx')\n",
    "df3 = read_gpx(folder_path+'recovery.25-May-2022-0907.gpx')\n",
    "# Limpiando valor lejano\n",
    "df3 = df3.drop(index=0).reset_index(drop=True)\n"
   ]
  },
  {
   "cell_type": "code",
   "execution_count": null,
   "metadata": {},
   "outputs": [],
   "source": [
    "#Calculo de la distancia geodesica y las diferencias de tiempo\n",
    "datos_dist_time=calcular_distancia_geodesica_time(df2)\n",
    "datos_dist_time"
   ]
  },
  {
   "cell_type": "code",
   "execution_count": null,
   "metadata": {},
   "outputs": [],
   "source": [
    "#Calculo de la rapidez media en segundos y horas\n",
    "datos_proc=calcular_rapidez(datos_dist_time)\n",
    "save_to_csv(datos_proc,'datos_finales')\n",
    "datos_proc"
   ]
  },
  {
   "cell_type": "code",
   "execution_count": null,
   "metadata": {},
   "outputs": [],
   "source": [
    "#Graficado de los datos par previsuailzación\n",
    "cols = ['rapidez_media_km_h', 'diferencia_tiempo_segundos','distancia_geodesica_km']\n",
    "labels = ['Rapidez Media (km/h)', 'Delta de tiempo (s)','Distancia geodesica (km)']\n",
    "\n",
    "plot_vel(datos_proc, cols, labels)"
   ]
  }
 ],
 "metadata": {
  "kernelspec": {
   "display_name": ".venv",
   "language": "python",
   "name": "python3"
  },
  "language_info": {
   "codemirror_mode": {
    "name": "ipython",
    "version": 3
   },
   "file_extension": ".py",
   "mimetype": "text/x-python",
   "name": "python",
   "nbconvert_exporter": "python",
   "pygments_lexer": "ipython3",
   "version": "3.10.6"
  },
  "orig_nbformat": 4
 },
 "nbformat": 4,
 "nbformat_minor": 2
}
