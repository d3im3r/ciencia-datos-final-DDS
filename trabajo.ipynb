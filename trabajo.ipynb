{
 "cells": [
  {
   "cell_type": "code",
   "execution_count": 6,
   "metadata": {},
   "outputs": [],
   "source": [
    "# Load dependences\n",
    "import matplotlib.pyplot as plt\n",
    "import geopandas as gpd\n",
    "import pandas as pd\n",
    "import numpy as np\n",
    "import requests\n",
    "import urllib\n",
    "import folium\n",
    "import gpxpy\n",
    "import sys\n",
    "import os\n",
    "from shapely.geometry import Point, Polygon\n",
    "\n",
    "%matplotlib inline"
   ]
  },
  {
   "cell_type": "code",
   "execution_count": 7,
   "metadata": {},
   "outputs": [],
   "source": [
    "# Path\n",
    "path = os.path.dirname('__file__')"
   ]
  },
  {
   "cell_type": "code",
   "execution_count": 8,
   "metadata": {},
   "outputs": [],
   "source": [
    "# Read data\n",
    "def read_gpx(file: str) -> pd.DataFrame:\n",
    "    df = None\n",
    "    points = []\n",
    "    with open(file) as f:\n",
    "        gpx = gpxpy.parse(f)\n",
    "    for segment in gpx.tracks[0].segments:\n",
    "        for p in segment.points:\n",
    "            points.append({\n",
    "                'time': p.time,\n",
    "                'latitude': p.latitude,\n",
    "                'Longitude': p. longitude,\n",
    "                'elevation': p.elevation\n",
    "            })\n",
    "    df = pd.DataFrame.from_records(points)\n",
    "    return df\n",
    "\n",
    "# Calculate elevation\n",
    "API_KEY = 'ak_fHS5JRMf_JWxpY385oWW5gMow'  # Get a free key from www.gpxz.io.\n",
    "BATCH_SIZE = 50  # 512 for paid customers.\n",
    "\n",
    "def gpxz_elevation(lats, lons):\n",
    "    '''Iterate over the coordinates in chunks, querying the GPXZ api to return\n",
    "    a list of elevations in the same order.'''\n",
    "    elevations = []\n",
    "    n_chunks = int(len(lats) // BATCH_SIZE) + 1\n",
    "    lat_chunks = np.array_split(lats, n_chunks) \n",
    "    lon_chunks = np.array_split(lons, n_chunks)\n",
    "    for lat_chunk, lon_chunk in zip(lat_chunks, lon_chunks):\n",
    "        latlons = '|'.join(f'{lat},{lon}' for lat, lon in zip(lat_chunk, lon_chunk))\n",
    "        response = requests.post(\n",
    "            'https://api.gpxz.io/v1/elevation/points', \n",
    "            headers={'x-api-key': API_KEY},\n",
    "            data={'latlons': latlons},\n",
    "        )\n",
    "        response.raise_for_status()\n",
    "        elevations += [r['elevation'] for r in response.json()['results']]\n",
    "    return elevations\n",
    "\n",
    "\n",
    "def add_elevation_to_gpx(gpx_path, output_path='with_elevation.gpx'):\n",
    "    # Load gpx.\n",
    "    gpx_path = 'run.gpx'\n",
    "    with open(gpx_path) as f:\n",
    "        gpx = gpxpy.parse(f)\n",
    "\n",
    "    # Find points.\n",
    "    points = list(gpx.walk(only_points=True))\n",
    "    latitudes = [p.latitude for p in points]\n",
    "    longitudes = [p.longitude for p in points]\n",
    "\n",
    "    # Update elevations.\n",
    "    elevations = gpxz_elevation(latitudes, longitudes)\n",
    "    for point, elevation in zip(points, elevations):\n",
    "        point.elevation = elevation\n",
    "\n",
    "    # Save gpx file.\n",
    "    with open(output_path, 'w') as f:\n",
    "        f.write(gpx.to_xml())     "
   ]
  },
  {
   "cell_type": "code",
   "execution_count": 9,
   "metadata": {},
   "outputs": [],
   "source": [
    "# Read as dataframes\n",
    "data_path_dic = {\n",
    "    'recovery_01': os.path.join(path, './data_raw/recovery.01-Mar-2022-1533.gpx'),\n",
    "    'recovery_05': os.path.join(path, './data_raw/recovery.05-Mar-2022.1025.gpx'),\n",
    "    'recovery_25': os.path.join(path, './data_raw/recovery.25-May-2022-0907.gpx'),\n",
    "    'cocorollo': os.path.join(path, './data_created/cocorollo.gpx'),\n",
    "    'euro': os.path.join(path, './data_created/euro.gpx'),\n",
    "    'frisby': os.path.join(path, './data_created/frisby.gpx'),\n",
    "    'parques': os.path.join(path, './data_created/parques.gpx')\n",
    "}\n",
    "\n",
    "df_01 = read_gpx(data_path_dic[\"recovery_01\"])\n",
    "df_05 = read_gpx(data_path_dic[\"recovery_05\"])\n",
    "df_25 = read_gpx(data_path_dic[\"recovery_25\"])\n",
    "df_cocorollo = read_gpx(data_path_dic[\"cocorollo\"])\n",
    "df_euro = read_gpx(data_path_dic[\"euro\"])\n",
    "df_frisby = read_gpx(data_path_dic[\"frisby\"])\n",
    "df_parques = read_gpx(data_path_dic[\"parques\"])"
   ]
  },
  {
   "cell_type": "code",
   "execution_count": 10,
   "metadata": {},
   "outputs": [],
   "source": [
    "#add_elevation_to_gpx(\"./data_created/cocorollo.gpx\", output_path='./data_created/prueba.gpx')"
   ]
  },
  {
   "cell_type": "code",
   "execution_count": 11,
   "metadata": {},
   "outputs": [],
   "source": [
    "#df_cocorollo = get_altitude(df_cocorollo, df_cocorollo['latitude'], df_cocorollo['Longitude'])"
   ]
  },
  {
   "cell_type": "code",
   "execution_count": 12,
   "metadata": {},
   "outputs": [],
   "source": [
    "#df_cocorollo.info()"
   ]
  },
  {
   "cell_type": "code",
   "execution_count": 13,
   "metadata": {},
   "outputs": [
    {
     "data": {
      "text/html": [
       "<div>\n",
       "<style scoped>\n",
       "    .dataframe tbody tr th:only-of-type {\n",
       "        vertical-align: middle;\n",
       "    }\n",
       "\n",
       "    .dataframe tbody tr th {\n",
       "        vertical-align: top;\n",
       "    }\n",
       "\n",
       "    .dataframe thead th {\n",
       "        text-align: right;\n",
       "    }\n",
       "</style>\n",
       "<table border=\"1\" class=\"dataframe\">\n",
       "  <thead>\n",
       "    <tr style=\"text-align: right;\">\n",
       "      <th></th>\n",
       "      <th>time</th>\n",
       "      <th>latitude</th>\n",
       "      <th>Longitude</th>\n",
       "      <th>elevation</th>\n",
       "    </tr>\n",
       "  </thead>\n",
       "  <tbody>\n",
       "    <tr>\n",
       "      <th>0</th>\n",
       "      <td>2022-03-01 20:33:48+00:00</td>\n",
       "      <td>6.297476</td>\n",
       "      <td>-75.578192</td>\n",
       "      <td>1668.879307</td>\n",
       "    </tr>\n",
       "    <tr>\n",
       "      <th>1</th>\n",
       "      <td>2022-03-01 20:33:49+00:00</td>\n",
       "      <td>6.297476</td>\n",
       "      <td>-75.578146</td>\n",
       "      <td>1668.386143</td>\n",
       "    </tr>\n",
       "    <tr>\n",
       "      <th>2</th>\n",
       "      <td>2022-03-01 20:33:57+00:00</td>\n",
       "      <td>6.297460</td>\n",
       "      <td>-75.578169</td>\n",
       "      <td>1667.904453</td>\n",
       "    </tr>\n",
       "  </tbody>\n",
       "</table>\n",
       "</div>"
      ],
      "text/plain": [
       "                       time  latitude  Longitude    elevation\n",
       "0 2022-03-01 20:33:48+00:00  6.297476 -75.578192  1668.879307\n",
       "1 2022-03-01 20:33:49+00:00  6.297476 -75.578146  1668.386143\n",
       "2 2022-03-01 20:33:57+00:00  6.297460 -75.578169  1667.904453"
      ]
     },
     "execution_count": 13,
     "metadata": {},
     "output_type": "execute_result"
    }
   ],
   "source": [
    "df_01.head()"
   ]
  },
  {
   "cell_type": "code",
   "execution_count": 14,
   "metadata": {},
   "outputs": [
    {
     "name": "stdout",
     "output_type": "stream",
     "text": [
      "<class 'pandas.core.frame.DataFrame'>\n",
      "RangeIndex: 3 entries, 0 to 2\n",
      "Data columns (total 4 columns):\n",
      " #   Column     Non-Null Count  Dtype                        \n",
      "---  ------     --------------  -----                        \n",
      " 0   time       3 non-null      datetime64[ns, SimpleTZ(\"Z\")]\n",
      " 1   latitude   3 non-null      float64                      \n",
      " 2   Longitude  3 non-null      float64                      \n",
      " 3   elevation  3 non-null      float64                      \n",
      "dtypes: datetime64[ns, SimpleTZ(\"Z\")](1), float64(3)\n",
      "memory usage: 224.0 bytes\n"
     ]
    }
   ],
   "source": [
    "df_01.info()"
   ]
  },
  {
   "cell_type": "code",
   "execution_count": 15,
   "metadata": {},
   "outputs": [
    {
     "data": {
      "text/html": [
       "<div>\n",
       "<style scoped>\n",
       "    .dataframe tbody tr th:only-of-type {\n",
       "        vertical-align: middle;\n",
       "    }\n",
       "\n",
       "    .dataframe tbody tr th {\n",
       "        vertical-align: top;\n",
       "    }\n",
       "\n",
       "    .dataframe thead th {\n",
       "        text-align: right;\n",
       "    }\n",
       "</style>\n",
       "<table border=\"1\" class=\"dataframe\">\n",
       "  <thead>\n",
       "    <tr style=\"text-align: right;\">\n",
       "      <th></th>\n",
       "      <th>time</th>\n",
       "      <th>latitude</th>\n",
       "      <th>Longitude</th>\n",
       "      <th>elevation</th>\n",
       "    </tr>\n",
       "  </thead>\n",
       "  <tbody>\n",
       "    <tr>\n",
       "      <th>0</th>\n",
       "      <td>2022-03-04 00:04:34+00:00</td>\n",
       "      <td>6.180893</td>\n",
       "      <td>-75.577296</td>\n",
       "      <td>1589.639492</td>\n",
       "    </tr>\n",
       "    <tr>\n",
       "      <th>1</th>\n",
       "      <td>2022-03-04 00:04:35+00:00</td>\n",
       "      <td>6.180912</td>\n",
       "      <td>-75.577295</td>\n",
       "      <td>1588.165859</td>\n",
       "    </tr>\n",
       "    <tr>\n",
       "      <th>2</th>\n",
       "      <td>2022-03-04 00:04:43+00:00</td>\n",
       "      <td>6.180921</td>\n",
       "      <td>-75.577312</td>\n",
       "      <td>1591.435879</td>\n",
       "    </tr>\n",
       "    <tr>\n",
       "      <th>3</th>\n",
       "      <td>2022-03-04 00:04:46+00:00</td>\n",
       "      <td>6.180897</td>\n",
       "      <td>-75.577270</td>\n",
       "      <td>1587.116055</td>\n",
       "    </tr>\n",
       "    <tr>\n",
       "      <th>4</th>\n",
       "      <td>2022-03-04 00:04:48+00:00</td>\n",
       "      <td>6.180874</td>\n",
       "      <td>-75.577276</td>\n",
       "      <td>1586.772305</td>\n",
       "    </tr>\n",
       "  </tbody>\n",
       "</table>\n",
       "</div>"
      ],
      "text/plain": [
       "                       time  latitude  Longitude    elevation\n",
       "0 2022-03-04 00:04:34+00:00  6.180893 -75.577296  1589.639492\n",
       "1 2022-03-04 00:04:35+00:00  6.180912 -75.577295  1588.165859\n",
       "2 2022-03-04 00:04:43+00:00  6.180921 -75.577312  1591.435879\n",
       "3 2022-03-04 00:04:46+00:00  6.180897 -75.577270  1587.116055\n",
       "4 2022-03-04 00:04:48+00:00  6.180874 -75.577276  1586.772305"
      ]
     },
     "execution_count": 15,
     "metadata": {},
     "output_type": "execute_result"
    }
   ],
   "source": [
    "df_05.head()"
   ]
  },
  {
   "cell_type": "code",
   "execution_count": 16,
   "metadata": {},
   "outputs": [
    {
     "name": "stdout",
     "output_type": "stream",
     "text": [
      "<class 'pandas.core.frame.DataFrame'>\n",
      "RangeIndex: 18593 entries, 0 to 18592\n",
      "Data columns (total 4 columns):\n",
      " #   Column     Non-Null Count  Dtype                        \n",
      "---  ------     --------------  -----                        \n",
      " 0   time       18593 non-null  datetime64[ns, SimpleTZ(\"Z\")]\n",
      " 1   latitude   18593 non-null  float64                      \n",
      " 2   Longitude  18593 non-null  float64                      \n",
      " 3   elevation  18593 non-null  float64                      \n",
      "dtypes: datetime64[ns, SimpleTZ(\"Z\")](1), float64(3)\n",
      "memory usage: 581.2 KB\n"
     ]
    }
   ],
   "source": [
    "df_05.info()"
   ]
  },
  {
   "cell_type": "code",
   "execution_count": 17,
   "metadata": {},
   "outputs": [
    {
     "data": {
      "text/html": [
       "<div>\n",
       "<style scoped>\n",
       "    .dataframe tbody tr th:only-of-type {\n",
       "        vertical-align: middle;\n",
       "    }\n",
       "\n",
       "    .dataframe tbody tr th {\n",
       "        vertical-align: top;\n",
       "    }\n",
       "\n",
       "    .dataframe thead th {\n",
       "        text-align: right;\n",
       "    }\n",
       "</style>\n",
       "<table border=\"1\" class=\"dataframe\">\n",
       "  <thead>\n",
       "    <tr style=\"text-align: right;\">\n",
       "      <th></th>\n",
       "      <th>time</th>\n",
       "      <th>latitude</th>\n",
       "      <th>Longitude</th>\n",
       "      <th>elevation</th>\n",
       "    </tr>\n",
       "  </thead>\n",
       "  <tbody>\n",
       "    <tr>\n",
       "      <th>38</th>\n",
       "      <td>2022-03-04 00:21:03+00:00</td>\n",
       "      <td>6.180957</td>\n",
       "      <td>-75.577246</td>\n",
       "      <td>1606.784512</td>\n",
       "    </tr>\n",
       "    <tr>\n",
       "      <th>42</th>\n",
       "      <td>2022-03-04 00:21:15+00:00</td>\n",
       "      <td>6.180921</td>\n",
       "      <td>-75.577201</td>\n",
       "      <td>1606.262051</td>\n",
       "    </tr>\n",
       "    <tr>\n",
       "      <th>62</th>\n",
       "      <td>2022-03-04 00:22:21+00:00</td>\n",
       "      <td>6.180770</td>\n",
       "      <td>-75.577141</td>\n",
       "      <td>1601.305996</td>\n",
       "    </tr>\n",
       "    <tr>\n",
       "      <th>157</th>\n",
       "      <td>2022-03-04 00:32:01+00:00</td>\n",
       "      <td>6.180868</td>\n",
       "      <td>-75.577183</td>\n",
       "      <td>1589.329678</td>\n",
       "    </tr>\n",
       "    <tr>\n",
       "      <th>257</th>\n",
       "      <td>2022-03-04 00:38:12+00:00</td>\n",
       "      <td>6.180882</td>\n",
       "      <td>-75.577014</td>\n",
       "      <td>1566.878750</td>\n",
       "    </tr>\n",
       "    <tr>\n",
       "      <th>...</th>\n",
       "      <td>...</td>\n",
       "      <td>...</td>\n",
       "      <td>...</td>\n",
       "      <td>...</td>\n",
       "    </tr>\n",
       "    <tr>\n",
       "      <th>17858</th>\n",
       "      <td>2022-03-05 14:19:17+00:00</td>\n",
       "      <td>6.265207</td>\n",
       "      <td>-75.591524</td>\n",
       "      <td>1502.883579</td>\n",
       "    </tr>\n",
       "    <tr>\n",
       "      <th>18129</th>\n",
       "      <td>2022-03-05 14:31:57+00:00</td>\n",
       "      <td>6.260172</td>\n",
       "      <td>-75.588852</td>\n",
       "      <td>1485.919712</td>\n",
       "    </tr>\n",
       "    <tr>\n",
       "      <th>18353</th>\n",
       "      <td>2022-03-05 14:40:30+00:00</td>\n",
       "      <td>6.254302</td>\n",
       "      <td>-75.590716</td>\n",
       "      <td>1478.987217</td>\n",
       "    </tr>\n",
       "    <tr>\n",
       "      <th>18419</th>\n",
       "      <td>2022-03-05 14:44:51+00:00</td>\n",
       "      <td>6.255013</td>\n",
       "      <td>-75.591135</td>\n",
       "      <td>1478.726109</td>\n",
       "    </tr>\n",
       "    <tr>\n",
       "      <th>18435</th>\n",
       "      <td>2022-03-05 14:45:25+00:00</td>\n",
       "      <td>6.255032</td>\n",
       "      <td>-75.591118</td>\n",
       "      <td>1476.858921</td>\n",
       "    </tr>\n",
       "  </tbody>\n",
       "</table>\n",
       "<p>419 rows × 4 columns</p>\n",
       "</div>"
      ],
      "text/plain": [
       "                           time  latitude  Longitude    elevation\n",
       "38    2022-03-04 00:21:03+00:00  6.180957 -75.577246  1606.784512\n",
       "42    2022-03-04 00:21:15+00:00  6.180921 -75.577201  1606.262051\n",
       "62    2022-03-04 00:22:21+00:00  6.180770 -75.577141  1601.305996\n",
       "157   2022-03-04 00:32:01+00:00  6.180868 -75.577183  1589.329678\n",
       "257   2022-03-04 00:38:12+00:00  6.180882 -75.577014  1566.878750\n",
       "...                         ...       ...        ...          ...\n",
       "17858 2022-03-05 14:19:17+00:00  6.265207 -75.591524  1502.883579\n",
       "18129 2022-03-05 14:31:57+00:00  6.260172 -75.588852  1485.919712\n",
       "18353 2022-03-05 14:40:30+00:00  6.254302 -75.590716  1478.987217\n",
       "18419 2022-03-05 14:44:51+00:00  6.255013 -75.591135  1478.726109\n",
       "18435 2022-03-05 14:45:25+00:00  6.255032 -75.591118  1476.858921\n",
       "\n",
       "[419 rows x 4 columns]"
      ]
     },
     "execution_count": 17,
     "metadata": {},
     "output_type": "execute_result"
    }
   ],
   "source": [
    "df_05[df_05.duplicated(['latitude'])]"
   ]
  },
  {
   "cell_type": "code",
   "execution_count": 18,
   "metadata": {},
   "outputs": [
    {
     "data": {
      "text/html": [
       "<div>\n",
       "<style scoped>\n",
       "    .dataframe tbody tr th:only-of-type {\n",
       "        vertical-align: middle;\n",
       "    }\n",
       "\n",
       "    .dataframe tbody tr th {\n",
       "        vertical-align: top;\n",
       "    }\n",
       "\n",
       "    .dataframe thead th {\n",
       "        text-align: right;\n",
       "    }\n",
       "</style>\n",
       "<table border=\"1\" class=\"dataframe\">\n",
       "  <thead>\n",
       "    <tr style=\"text-align: right;\">\n",
       "      <th></th>\n",
       "      <th>time</th>\n",
       "      <th>latitude</th>\n",
       "      <th>Longitude</th>\n",
       "      <th>elevation</th>\n",
       "    </tr>\n",
       "  </thead>\n",
       "  <tbody>\n",
       "    <tr>\n",
       "      <th>0</th>\n",
       "      <td>2022-05-25 21:24:46.433000+00:00</td>\n",
       "      <td>6.208559</td>\n",
       "      <td>-75.571630</td>\n",
       "      <td>1558.78</td>\n",
       "    </tr>\n",
       "    <tr>\n",
       "      <th>1</th>\n",
       "      <td>2022-05-26 14:05:32.284000+00:00</td>\n",
       "      <td>6.268901</td>\n",
       "      <td>-75.593216</td>\n",
       "      <td>1548.51</td>\n",
       "    </tr>\n",
       "    <tr>\n",
       "      <th>2</th>\n",
       "      <td>2022-05-26 14:05:34+00:00</td>\n",
       "      <td>6.268870</td>\n",
       "      <td>-75.593087</td>\n",
       "      <td>1551.91</td>\n",
       "    </tr>\n",
       "    <tr>\n",
       "      <th>3</th>\n",
       "      <td>2022-05-26 14:05:36+00:00</td>\n",
       "      <td>6.268792</td>\n",
       "      <td>-75.593007</td>\n",
       "      <td>1551.53</td>\n",
       "    </tr>\n",
       "    <tr>\n",
       "      <th>4</th>\n",
       "      <td>2022-05-26 14:05:37+00:00</td>\n",
       "      <td>6.268722</td>\n",
       "      <td>-75.592900</td>\n",
       "      <td>1551.37</td>\n",
       "    </tr>\n",
       "  </tbody>\n",
       "</table>\n",
       "</div>"
      ],
      "text/plain": [
       "                              time  latitude  Longitude  elevation\n",
       "0 2022-05-25 21:24:46.433000+00:00  6.208559 -75.571630    1558.78\n",
       "1 2022-05-26 14:05:32.284000+00:00  6.268901 -75.593216    1548.51\n",
       "2        2022-05-26 14:05:34+00:00  6.268870 -75.593087    1551.91\n",
       "3        2022-05-26 14:05:36+00:00  6.268792 -75.593007    1551.53\n",
       "4        2022-05-26 14:05:37+00:00  6.268722 -75.592900    1551.37"
      ]
     },
     "execution_count": 18,
     "metadata": {},
     "output_type": "execute_result"
    }
   ],
   "source": [
    "df_25.head()"
   ]
  },
  {
   "cell_type": "code",
   "execution_count": 19,
   "metadata": {},
   "outputs": [
    {
     "name": "stdout",
     "output_type": "stream",
     "text": [
      "<class 'pandas.core.frame.DataFrame'>\n",
      "RangeIndex: 658 entries, 0 to 657\n",
      "Data columns (total 4 columns):\n",
      " #   Column     Non-Null Count  Dtype                        \n",
      "---  ------     --------------  -----                        \n",
      " 0   time       658 non-null    datetime64[ns, SimpleTZ(\"Z\")]\n",
      " 1   latitude   658 non-null    float64                      \n",
      " 2   Longitude  658 non-null    float64                      \n",
      " 3   elevation  658 non-null    float64                      \n",
      "dtypes: datetime64[ns, SimpleTZ(\"Z\")](1), float64(3)\n",
      "memory usage: 20.7 KB\n"
     ]
    }
   ],
   "source": [
    "df_25.info()"
   ]
  },
  {
   "cell_type": "code",
   "execution_count": 20,
   "metadata": {},
   "outputs": [],
   "source": [
    "# # initialize the map and store it in a m object\n",
    "# m = folium.Map(location=[40, -95], zoom_start=20)\n",
    "\n",
    "# # show the map\n",
    "# m"
   ]
  },
  {
   "cell_type": "code",
   "execution_count": 21,
   "metadata": {},
   "outputs": [
    {
     "data": {
      "image/png": "[encoded data removed]",
      "text/plain": [
       "<Figure size 640x480 with 1 Axes>"
      ]
     },
     "metadata": {},
     "output_type": "display_data"
    }
   ],
   "source": [
    "#Creating a geodataframe\n",
    "data = df_cocorollo\n",
    "points = gpd.points_from_xy(data[\"Longitude\"], data[\"latitude\"])\n",
    "map = gpd.GeoDataFrame (data, geometry=points) \n",
    "map.plot()\n",
    "\n",
    "plt.show()"
   ]
  },
  {
   "cell_type": "code",
   "execution_count": 22,
   "metadata": {},
   "outputs": [
    {
     "ename": "OSError",
     "evalue": "Unable to open boundary dataset file. Only the 'crude', 'low' and\n'intermediate' resolution datasets are installed by default. If you\nare requesting a 'high' or 'full' resolution dataset, you need to\ninstall the `basemap-data-hires` package.",
     "output_type": "error",
     "traceback": [
      "\u001b[0;31m---------------------------------------------------------------------------\u001b[0m",
      "\u001b[0;31mFileNotFoundError\u001b[0m                         Traceback (most recent call last)",
      "File \u001b[0;32m~/.local/lib/python3.10/site-packages/mpl_toolkits/basemap/__init__.py:1235\u001b[0m, in \u001b[0;36mBasemap._readboundarydata\u001b[0;34m(self, name, as_polygons)\u001b[0m\n\u001b[1;32m   1234\u001b[0m \u001b[39mtry\u001b[39;00m:\n\u001b[0;32m-> 1235\u001b[0m     bdatfile \u001b[39m=\u001b[39m \u001b[39mopen\u001b[39;49m(os\u001b[39m.\u001b[39;49mpath\u001b[39m.\u001b[39;49mjoin(basemap_datadir,name\u001b[39m+\u001b[39;49m\u001b[39m'\u001b[39;49m\u001b[39m_\u001b[39;49m\u001b[39m'\u001b[39;49m\u001b[39m+\u001b[39;49m\u001b[39mself\u001b[39;49m\u001b[39m.\u001b[39;49mresolution\u001b[39m+\u001b[39;49m\u001b[39m'\u001b[39;49m\u001b[39m.dat\u001b[39;49m\u001b[39m'\u001b[39;49m),\u001b[39m'\u001b[39;49m\u001b[39mrb\u001b[39;49m\u001b[39m'\u001b[39;49m)\n\u001b[1;32m   1236\u001b[0m     bdatmetafile \u001b[39m=\u001b[39m \u001b[39mopen\u001b[39m(os\u001b[39m.\u001b[39mpath\u001b[39m.\u001b[39mjoin(basemap_datadir,name\u001b[39m+\u001b[39m\u001b[39m'\u001b[39m\u001b[39mmeta_\u001b[39m\u001b[39m'\u001b[39m\u001b[39m+\u001b[39m\u001b[39mself\u001b[39m\u001b[39m.\u001b[39mresolution\u001b[39m+\u001b[39m\u001b[39m'\u001b[39m\u001b[39m.dat\u001b[39m\u001b[39m'\u001b[39m),\u001b[39m'\u001b[39m\u001b[39mr\u001b[39m\u001b[39m'\u001b[39m)\n",
      "\u001b[0;31mFileNotFoundError\u001b[0m: [Errno 2] No such file or directory: '/home/d3im3r/.local/lib/python3.10/site-packages/mpl_toolkits/basemap_data/gshhs_h.dat'",
      "\nDuring handling of the above exception, another exception occurred:\n",
      "\u001b[0;31mOSError\u001b[0m                                   Traceback (most recent call last)",
      "Cell \u001b[0;32mIn[22], line 8\u001b[0m\n\u001b[1;32m      5\u001b[0m data \u001b[39m=\u001b[39m df_01\n\u001b[1;32m      7\u001b[0m fig \u001b[39m=\u001b[39m plt\u001b[39m.\u001b[39mfigure(figsize\u001b[39m=\u001b[39m(\u001b[39m8\u001b[39m, \u001b[39m8\u001b[39m))\n\u001b[0;32m----> 8\u001b[0m m \u001b[39m=\u001b[39m Basemap(projection\u001b[39m=\u001b[39;49m\u001b[39m'\u001b[39;49m\u001b[39mlcc\u001b[39;49m\u001b[39m'\u001b[39;49m, resolution\u001b[39m=\u001b[39;49m\u001b[39m'\u001b[39;49m\u001b[39mh\u001b[39;49m\u001b[39m'\u001b[39;49m,\n\u001b[1;32m      9\u001b[0m             lat_0\u001b[39m=\u001b[39;49mdata[\u001b[39m'\u001b[39;49m\u001b[39mlatitude\u001b[39;49m\u001b[39m'\u001b[39;49m]\u001b[39m.\u001b[39;49mmean(), lon_0\u001b[39m=\u001b[39;49mdata[\u001b[39m'\u001b[39;49m\u001b[39mLongitude\u001b[39;49m\u001b[39m'\u001b[39;49m]\u001b[39m.\u001b[39;49mmean(),\n\u001b[1;32m     10\u001b[0m             width\u001b[39m=\u001b[39;49m\u001b[39m1e6\u001b[39;49m, height\u001b[39m=\u001b[39;49m\u001b[39m1.2e6\u001b[39;49m)\n\u001b[1;32m     12\u001b[0m m\u001b[39m.\u001b[39mdrawcoastlines()\n\u001b[1;32m     13\u001b[0m m\u001b[39m.\u001b[39mdrawcountries()\n",
      "File \u001b[0;32m~/.local/lib/python3.10/site-packages/mpl_toolkits/basemap/__init__.py:1125\u001b[0m, in \u001b[0;36mBasemap.__init__\u001b[0;34m(self, llcrnrlon, llcrnrlat, urcrnrlon, urcrnrlat, llcrnrx, llcrnry, urcrnrx, urcrnry, width, height, projection, resolution, area_thresh, rsphere, ellps, lat_ts, lat_1, lat_2, lat_0, lon_0, lon_1, lon_2, o_lon_p, o_lat_p, k_0, no_rot, suppress_ticks, satellite_height, boundinglat, fix_aspect, anchor, celestial, round, epsg, ax)\u001b[0m\n\u001b[1;32m   1121\u001b[0m \u001b[39m# read in coastline polygons, only keeping those that\u001b[39;00m\n\u001b[1;32m   1122\u001b[0m \u001b[39m# intersect map boundary polygon.\u001b[39;00m\n\u001b[1;32m   1123\u001b[0m \u001b[39mif\u001b[39;00m \u001b[39mself\u001b[39m\u001b[39m.\u001b[39mresolution \u001b[39mis\u001b[39;00m \u001b[39mnot\u001b[39;00m \u001b[39mNone\u001b[39;00m:\n\u001b[1;32m   1124\u001b[0m     \u001b[39mself\u001b[39m\u001b[39m.\u001b[39mcoastsegs, \u001b[39mself\u001b[39m\u001b[39m.\u001b[39mcoastpolygontypes \u001b[39m=\u001b[39m\\\n\u001b[0;32m-> 1125\u001b[0m     \u001b[39mself\u001b[39;49m\u001b[39m.\u001b[39;49m_readboundarydata(\u001b[39m'\u001b[39;49m\u001b[39mgshhs\u001b[39;49m\u001b[39m'\u001b[39;49m,as_polygons\u001b[39m=\u001b[39;49m\u001b[39mTrue\u001b[39;49;00m)\n\u001b[1;32m   1126\u001b[0m     \u001b[39m# reformat for use in matplotlib.patches.Polygon.\u001b[39;00m\n\u001b[1;32m   1127\u001b[0m     \u001b[39mself\u001b[39m\u001b[39m.\u001b[39mcoastpolygons \u001b[39m=\u001b[39m []\n",
      "File \u001b[0;32m~/.local/lib/python3.10/site-packages/mpl_toolkits/basemap/__init__.py:1238\u001b[0m, in \u001b[0;36mBasemap._readboundarydata\u001b[0;34m(self, name, as_polygons)\u001b[0m\n\u001b[1;32m   1236\u001b[0m     bdatmetafile \u001b[39m=\u001b[39m \u001b[39mopen\u001b[39m(os\u001b[39m.\u001b[39mpath\u001b[39m.\u001b[39mjoin(basemap_datadir,name\u001b[39m+\u001b[39m\u001b[39m'\u001b[39m\u001b[39mmeta_\u001b[39m\u001b[39m'\u001b[39m\u001b[39m+\u001b[39m\u001b[39mself\u001b[39m\u001b[39m.\u001b[39mresolution\u001b[39m+\u001b[39m\u001b[39m'\u001b[39m\u001b[39m.dat\u001b[39m\u001b[39m'\u001b[39m),\u001b[39m'\u001b[39m\u001b[39mr\u001b[39m\u001b[39m'\u001b[39m)\n\u001b[1;32m   1237\u001b[0m \u001b[39mexcept\u001b[39;00m:\n\u001b[0;32m-> 1238\u001b[0m     \u001b[39mraise\u001b[39;00m \u001b[39mIOError\u001b[39;00m(msg)\n\u001b[1;32m   1239\u001b[0m polygons \u001b[39m=\u001b[39m []\n\u001b[1;32m   1240\u001b[0m polygon_types \u001b[39m=\u001b[39m []\n",
      "\u001b[0;31mOSError\u001b[0m: Unable to open boundary dataset file. Only the 'crude', 'low' and\n'intermediate' resolution datasets are installed by default. If you\nare requesting a 'high' or 'full' resolution dataset, you need to\ninstall the `basemap-data-hires` package."
     ]
    },
    {
     "data": {
      "text/plain": [
       "<Figure size 800x800 with 0 Axes>"
      ]
     },
     "metadata": {},
     "output_type": "display_data"
    }
   ],
   "source": [
    "import matplotlib.pyplot as plt\n",
    "from mpl_toolkits.basemap import Basemap\n",
    "import pandas as pd\n",
    "\n",
    "data = df_01\n",
    "\n",
    "fig = plt.figure(figsize=(8, 8))\n",
    "m = Basemap(projection='lcc', resolution='h',\n",
    "            lat_0=data['latitude'].mean(), lon_0=data['Longitude'].mean(),\n",
    "            width=1e6, height=1.2e6)\n",
    "\n",
    "m.drawcoastlines()\n",
    "m.drawcountries()\n",
    "m.drawstates()\n",
    "m.fillcontinents(color='lightgray', lake_color='white')\n",
    "m.drawmapboundary(fill_color='white')\n",
    "\n",
    "x, y = m(data['Longitude'].values, data['latitude'].values)\n",
    "m.scatter(x, y, s=data['elevation'].values, c='red', alpha=0.5, marker='.', linewidth=0.5)\n",
    "\n",
    "plt.show()"
   ]
  },
  {
   "cell_type": "code",
   "execution_count": null,
   "metadata": {},
   "outputs": [],
   "source": [
    "data = df_05\n",
    "\n",
    "print('elevation',data['elevation'].min(),data['elevation'].max())\n",
    "print('latitude',data['latitude'].min(),data['latitude'].max())\n",
    "print('longitude',data['Longitude'].min(),data['Longitude'].max())"
   ]
  },
  {
   "cell_type": "code",
   "execution_count": null,
   "metadata": {},
   "outputs": [],
   "source": []
  }
 ],
 "metadata": {
  "kernelspec": {
   "display_name": "venv_cda",
   "language": "python",
   "name": "python3"
  },
  "language_info": {
   "codemirror_mode": {
    "name": "ipython",
    "version": 3
   },
   "file_extension": ".py",
   "mimetype": "text/x-python",
   "name": "python",
   "nbconvert_exporter": "python",
   "pygments_lexer": "ipython3",
   "version": "3.10.6"
  },
  "orig_nbformat": 4,
  "vscode": {
   "interpreter": {
    "hash": "ccba4711fb7898b663749af9366a8b379b35471f3438621895cf16125d9af989"
   }
  }
 },
 "nbformat": 4,
 "nbformat_minor": 2
}
