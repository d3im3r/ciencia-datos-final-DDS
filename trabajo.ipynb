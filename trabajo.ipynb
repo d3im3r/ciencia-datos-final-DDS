{
 "cells": [
  {
   "cell_type": "code",
   "execution_count": 6,
   "metadata": {},
   "outputs": [],
   "source": [
    "# Load dependences\n",
    "import gpxpy\n",
    "import pandas as pd\n",
    "import os\n",
    "import sys"
   ]
  },
  {
   "cell_type": "code",
   "execution_count": 8,
   "metadata": {},
   "outputs": [],
   "source": [
    "# Path\n",
    "path = os.path.dirname('__file__')"
   ]
  },
  {
   "cell_type": "code",
   "execution_count": 9,
   "metadata": {},
   "outputs": [],
   "source": [
    "# Read data\n",
    "def read_gpx(file: str) -> pd.DataFrame:\n",
    "    df = None\n",
    "    points = []\n",
    "    with open(file) as f:\n",
    "        gpx = gpxpy.parse(f)\n",
    "    for segment in gpx.tracks[0].segments:\n",
    "        for p in segment.points:\n",
    "            points.append({\n",
    "                'time': p.time,\n",
    "                'latitude': p.latitude,\n",
    "                'Longitude': p. longitude,\n",
    "                'elevation': p.elevation\n",
    "            })\n",
    "    df = pd.DataFrame.from_records(points)\n",
    "    return df"
   ]
  },
  {
   "cell_type": "code",
   "execution_count": 14,
   "metadata": {},
   "outputs": [],
   "source": [
    "# Read as dataframes\n",
    "data_path_dic = {\n",
    "    'recovery_01': os.path.join(path, './data_raw/recovery.01-Mar-2022-1533.gpx'),\n",
    "    'recovery_05': os.path.join(path, './data_raw/recovery.05-Mar-2022.1025.gpx'),\n",
    "    'recovery_25': os.path.join(path, './data_raw/recovery.25-May-2022-0907.gpx')\n",
    "}\n",
    "\n",
    "df_01 = read_gpx(data_path_dic[\"recovery_01\"])\n",
    "df_05 = read_gpx(data_path_dic[\"recovery_05\"])\n",
    "df_25 = read_gpx(data_path_dic[\"recovery_25\"])"
   ]
  },
  {
   "cell_type": "code",
   "execution_count": 23,
   "metadata": {},
   "outputs": [
    {
     "data": {
      "text/html": [
       "<div>\n",
       "<style scoped>\n",
       "    .dataframe tbody tr th:only-of-type {\n",
       "        vertical-align: middle;\n",
       "    }\n",
       "\n",
       "    .dataframe tbody tr th {\n",
       "        vertical-align: top;\n",
       "    }\n",
       "\n",
       "    .dataframe thead th {\n",
       "        text-align: right;\n",
       "    }\n",
       "</style>\n",
       "<table border=\"1\" class=\"dataframe\">\n",
       "  <thead>\n",
       "    <tr style=\"text-align: right;\">\n",
       "      <th></th>\n",
       "      <th>time</th>\n",
       "      <th>latitude</th>\n",
       "      <th>Longitude</th>\n",
       "      <th>elevation</th>\n",
       "    </tr>\n",
       "  </thead>\n",
       "  <tbody>\n",
       "    <tr>\n",
       "      <th>0</th>\n",
       "      <td>2022-03-01 20:33:48+00:00</td>\n",
       "      <td>6.297476</td>\n",
       "      <td>-75.578192</td>\n",
       "      <td>1668.879307</td>\n",
       "    </tr>\n",
       "    <tr>\n",
       "      <th>1</th>\n",
       "      <td>2022-03-01 20:33:49+00:00</td>\n",
       "      <td>6.297476</td>\n",
       "      <td>-75.578146</td>\n",
       "      <td>1668.386143</td>\n",
       "    </tr>\n",
       "    <tr>\n",
       "      <th>2</th>\n",
       "      <td>2022-03-01 20:33:57+00:00</td>\n",
       "      <td>6.297460</td>\n",
       "      <td>-75.578169</td>\n",
       "      <td>1667.904453</td>\n",
       "    </tr>\n",
       "  </tbody>\n",
       "</table>\n",
       "</div>"
      ],
      "text/plain": [
       "                       time  latitude  Longitude    elevation\n",
       "0 2022-03-01 20:33:48+00:00  6.297476 -75.578192  1668.879307\n",
       "1 2022-03-01 20:33:49+00:00  6.297476 -75.578146  1668.386143\n",
       "2 2022-03-01 20:33:57+00:00  6.297460 -75.578169  1667.904453"
      ]
     },
     "execution_count": 23,
     "metadata": {},
     "output_type": "execute_result"
    }
   ],
   "source": [
    "df_01.head()"
   ]
  },
  {
   "cell_type": "code",
   "execution_count": 19,
   "metadata": {},
   "outputs": [
    {
     "name": "stdout",
     "output_type": "stream",
     "text": [
      "<class 'pandas.core.frame.DataFrame'>\n",
      "RangeIndex: 3 entries, 0 to 2\n",
      "Data columns (total 4 columns):\n",
      " #   Column     Non-Null Count  Dtype                        \n",
      "---  ------     --------------  -----                        \n",
      " 0   time       3 non-null      datetime64[ns, SimpleTZ(\"Z\")]\n",
      " 1   latitude   3 non-null      float64                      \n",
      " 2   Longitude  3 non-null      float64                      \n",
      " 3   elevation  3 non-null      float64                      \n",
      "dtypes: datetime64[ns, SimpleTZ(\"Z\")](1), float64(3)\n",
      "memory usage: 224.0 bytes\n"
     ]
    }
   ],
   "source": [
    "df_01.info()"
   ]
  },
  {
   "cell_type": "code",
   "execution_count": 16,
   "metadata": {},
   "outputs": [
    {
     "data": {
      "text/html": [
       "<div>\n",
       "<style scoped>\n",
       "    .dataframe tbody tr th:only-of-type {\n",
       "        vertical-align: middle;\n",
       "    }\n",
       "\n",
       "    .dataframe tbody tr th {\n",
       "        vertical-align: top;\n",
       "    }\n",
       "\n",
       "    .dataframe thead th {\n",
       "        text-align: right;\n",
       "    }\n",
       "</style>\n",
       "<table border=\"1\" class=\"dataframe\">\n",
       "  <thead>\n",
       "    <tr style=\"text-align: right;\">\n",
       "      <th></th>\n",
       "      <th>time</th>\n",
       "      <th>latitude</th>\n",
       "      <th>Longitude</th>\n",
       "      <th>elevation</th>\n",
       "    </tr>\n",
       "  </thead>\n",
       "  <tbody>\n",
       "    <tr>\n",
       "      <th>0</th>\n",
       "      <td>2022-03-04 00:04:34+00:00</td>\n",
       "      <td>6.180893</td>\n",
       "      <td>-75.577296</td>\n",
       "      <td>1589.639492</td>\n",
       "    </tr>\n",
       "    <tr>\n",
       "      <th>1</th>\n",
       "      <td>2022-03-04 00:04:35+00:00</td>\n",
       "      <td>6.180912</td>\n",
       "      <td>-75.577295</td>\n",
       "      <td>1588.165859</td>\n",
       "    </tr>\n",
       "    <tr>\n",
       "      <th>2</th>\n",
       "      <td>2022-03-04 00:04:43+00:00</td>\n",
       "      <td>6.180921</td>\n",
       "      <td>-75.577312</td>\n",
       "      <td>1591.435879</td>\n",
       "    </tr>\n",
       "    <tr>\n",
       "      <th>3</th>\n",
       "      <td>2022-03-04 00:04:46+00:00</td>\n",
       "      <td>6.180897</td>\n",
       "      <td>-75.577270</td>\n",
       "      <td>1587.116055</td>\n",
       "    </tr>\n",
       "    <tr>\n",
       "      <th>4</th>\n",
       "      <td>2022-03-04 00:04:48+00:00</td>\n",
       "      <td>6.180874</td>\n",
       "      <td>-75.577276</td>\n",
       "      <td>1586.772305</td>\n",
       "    </tr>\n",
       "  </tbody>\n",
       "</table>\n",
       "</div>"
      ],
      "text/plain": [
       "                       time  latitude  Longitude    elevation\n",
       "0 2022-03-04 00:04:34+00:00  6.180893 -75.577296  1589.639492\n",
       "1 2022-03-04 00:04:35+00:00  6.180912 -75.577295  1588.165859\n",
       "2 2022-03-04 00:04:43+00:00  6.180921 -75.577312  1591.435879\n",
       "3 2022-03-04 00:04:46+00:00  6.180897 -75.577270  1587.116055\n",
       "4 2022-03-04 00:04:48+00:00  6.180874 -75.577276  1586.772305"
      ]
     },
     "execution_count": 16,
     "metadata": {},
     "output_type": "execute_result"
    }
   ],
   "source": [
    "df_05.head()"
   ]
  },
  {
   "cell_type": "code",
   "execution_count": 20,
   "metadata": {},
   "outputs": [
    {
     "name": "stdout",
     "output_type": "stream",
     "text": [
      "<class 'pandas.core.frame.DataFrame'>\n",
      "RangeIndex: 18593 entries, 0 to 18592\n",
      "Data columns (total 4 columns):\n",
      " #   Column     Non-Null Count  Dtype                        \n",
      "---  ------     --------------  -----                        \n",
      " 0   time       18593 non-null  datetime64[ns, SimpleTZ(\"Z\")]\n",
      " 1   latitude   18593 non-null  float64                      \n",
      " 2   Longitude  18593 non-null  float64                      \n",
      " 3   elevation  18593 non-null  float64                      \n",
      "dtypes: datetime64[ns, SimpleTZ(\"Z\")](1), float64(3)\n",
      "memory usage: 581.2 KB\n"
     ]
    }
   ],
   "source": [
    "df_05.info()"
   ]
  },
  {
   "cell_type": "code",
   "execution_count": 25,
   "metadata": {},
   "outputs": [
    {
     "data": {
      "text/html": [
       "<div>\n",
       "<style scoped>\n",
       "    .dataframe tbody tr th:only-of-type {\n",
       "        vertical-align: middle;\n",
       "    }\n",
       "\n",
       "    .dataframe tbody tr th {\n",
       "        vertical-align: top;\n",
       "    }\n",
       "\n",
       "    .dataframe thead th {\n",
       "        text-align: right;\n",
       "    }\n",
       "</style>\n",
       "<table border=\"1\" class=\"dataframe\">\n",
       "  <thead>\n",
       "    <tr style=\"text-align: right;\">\n",
       "      <th></th>\n",
       "      <th>time</th>\n",
       "      <th>latitude</th>\n",
       "      <th>Longitude</th>\n",
       "      <th>elevation</th>\n",
       "    </tr>\n",
       "  </thead>\n",
       "  <tbody>\n",
       "    <tr>\n",
       "      <th>38</th>\n",
       "      <td>2022-03-04 00:21:03+00:00</td>\n",
       "      <td>6.180957</td>\n",
       "      <td>-75.577246</td>\n",
       "      <td>1606.784512</td>\n",
       "    </tr>\n",
       "    <tr>\n",
       "      <th>42</th>\n",
       "      <td>2022-03-04 00:21:15+00:00</td>\n",
       "      <td>6.180921</td>\n",
       "      <td>-75.577201</td>\n",
       "      <td>1606.262051</td>\n",
       "    </tr>\n",
       "    <tr>\n",
       "      <th>62</th>\n",
       "      <td>2022-03-04 00:22:21+00:00</td>\n",
       "      <td>6.180770</td>\n",
       "      <td>-75.577141</td>\n",
       "      <td>1601.305996</td>\n",
       "    </tr>\n",
       "    <tr>\n",
       "      <th>157</th>\n",
       "      <td>2022-03-04 00:32:01+00:00</td>\n",
       "      <td>6.180868</td>\n",
       "      <td>-75.577183</td>\n",
       "      <td>1589.329678</td>\n",
       "    </tr>\n",
       "    <tr>\n",
       "      <th>257</th>\n",
       "      <td>2022-03-04 00:38:12+00:00</td>\n",
       "      <td>6.180882</td>\n",
       "      <td>-75.577014</td>\n",
       "      <td>1566.878750</td>\n",
       "    </tr>\n",
       "    <tr>\n",
       "      <th>...</th>\n",
       "      <td>...</td>\n",
       "      <td>...</td>\n",
       "      <td>...</td>\n",
       "      <td>...</td>\n",
       "    </tr>\n",
       "    <tr>\n",
       "      <th>17858</th>\n",
       "      <td>2022-03-05 14:19:17+00:00</td>\n",
       "      <td>6.265207</td>\n",
       "      <td>-75.591524</td>\n",
       "      <td>1502.883579</td>\n",
       "    </tr>\n",
       "    <tr>\n",
       "      <th>18129</th>\n",
       "      <td>2022-03-05 14:31:57+00:00</td>\n",
       "      <td>6.260172</td>\n",
       "      <td>-75.588852</td>\n",
       "      <td>1485.919712</td>\n",
       "    </tr>\n",
       "    <tr>\n",
       "      <th>18353</th>\n",
       "      <td>2022-03-05 14:40:30+00:00</td>\n",
       "      <td>6.254302</td>\n",
       "      <td>-75.590716</td>\n",
       "      <td>1478.987217</td>\n",
       "    </tr>\n",
       "    <tr>\n",
       "      <th>18419</th>\n",
       "      <td>2022-03-05 14:44:51+00:00</td>\n",
       "      <td>6.255013</td>\n",
       "      <td>-75.591135</td>\n",
       "      <td>1478.726109</td>\n",
       "    </tr>\n",
       "    <tr>\n",
       "      <th>18435</th>\n",
       "      <td>2022-03-05 14:45:25+00:00</td>\n",
       "      <td>6.255032</td>\n",
       "      <td>-75.591118</td>\n",
       "      <td>1476.858921</td>\n",
       "    </tr>\n",
       "  </tbody>\n",
       "</table>\n",
       "<p>419 rows × 4 columns</p>\n",
       "</div>"
      ],
      "text/plain": [
       "                           time  latitude  Longitude    elevation\n",
       "38    2022-03-04 00:21:03+00:00  6.180957 -75.577246  1606.784512\n",
       "42    2022-03-04 00:21:15+00:00  6.180921 -75.577201  1606.262051\n",
       "62    2022-03-04 00:22:21+00:00  6.180770 -75.577141  1601.305996\n",
       "157   2022-03-04 00:32:01+00:00  6.180868 -75.577183  1589.329678\n",
       "257   2022-03-04 00:38:12+00:00  6.180882 -75.577014  1566.878750\n",
       "...                         ...       ...        ...          ...\n",
       "17858 2022-03-05 14:19:17+00:00  6.265207 -75.591524  1502.883579\n",
       "18129 2022-03-05 14:31:57+00:00  6.260172 -75.588852  1485.919712\n",
       "18353 2022-03-05 14:40:30+00:00  6.254302 -75.590716  1478.987217\n",
       "18419 2022-03-05 14:44:51+00:00  6.255013 -75.591135  1478.726109\n",
       "18435 2022-03-05 14:45:25+00:00  6.255032 -75.591118  1476.858921\n",
       "\n",
       "[419 rows x 4 columns]"
      ]
     },
     "execution_count": 25,
     "metadata": {},
     "output_type": "execute_result"
    }
   ],
   "source": [
    "df_05[df_05.duplicated(['latitude'])]"
   ]
  },
  {
   "cell_type": "code",
   "execution_count": 17,
   "metadata": {},
   "outputs": [
    {
     "data": {
      "text/html": [
       "<div>\n",
       "<style scoped>\n",
       "    .dataframe tbody tr th:only-of-type {\n",
       "        vertical-align: middle;\n",
       "    }\n",
       "\n",
       "    .dataframe tbody tr th {\n",
       "        vertical-align: top;\n",
       "    }\n",
       "\n",
       "    .dataframe thead th {\n",
       "        text-align: right;\n",
       "    }\n",
       "</style>\n",
       "<table border=\"1\" class=\"dataframe\">\n",
       "  <thead>\n",
       "    <tr style=\"text-align: right;\">\n",
       "      <th></th>\n",
       "      <th>time</th>\n",
       "      <th>latitude</th>\n",
       "      <th>Longitude</th>\n",
       "      <th>elevation</th>\n",
       "    </tr>\n",
       "  </thead>\n",
       "  <tbody>\n",
       "    <tr>\n",
       "      <th>0</th>\n",
       "      <td>2022-05-25 21:24:46.433000+00:00</td>\n",
       "      <td>6.208559</td>\n",
       "      <td>-75.571630</td>\n",
       "      <td>1558.78</td>\n",
       "    </tr>\n",
       "    <tr>\n",
       "      <th>1</th>\n",
       "      <td>2022-05-26 14:05:32.284000+00:00</td>\n",
       "      <td>6.268901</td>\n",
       "      <td>-75.593216</td>\n",
       "      <td>1548.51</td>\n",
       "    </tr>\n",
       "    <tr>\n",
       "      <th>2</th>\n",
       "      <td>2022-05-26 14:05:34+00:00</td>\n",
       "      <td>6.268870</td>\n",
       "      <td>-75.593087</td>\n",
       "      <td>1551.91</td>\n",
       "    </tr>\n",
       "    <tr>\n",
       "      <th>3</th>\n",
       "      <td>2022-05-26 14:05:36+00:00</td>\n",
       "      <td>6.268792</td>\n",
       "      <td>-75.593007</td>\n",
       "      <td>1551.53</td>\n",
       "    </tr>\n",
       "    <tr>\n",
       "      <th>4</th>\n",
       "      <td>2022-05-26 14:05:37+00:00</td>\n",
       "      <td>6.268722</td>\n",
       "      <td>-75.592900</td>\n",
       "      <td>1551.37</td>\n",
       "    </tr>\n",
       "  </tbody>\n",
       "</table>\n",
       "</div>"
      ],
      "text/plain": [
       "                              time  latitude  Longitude  elevation\n",
       "0 2022-05-25 21:24:46.433000+00:00  6.208559 -75.571630    1558.78\n",
       "1 2022-05-26 14:05:32.284000+00:00  6.268901 -75.593216    1548.51\n",
       "2        2022-05-26 14:05:34+00:00  6.268870 -75.593087    1551.91\n",
       "3        2022-05-26 14:05:36+00:00  6.268792 -75.593007    1551.53\n",
       "4        2022-05-26 14:05:37+00:00  6.268722 -75.592900    1551.37"
      ]
     },
     "execution_count": 17,
     "metadata": {},
     "output_type": "execute_result"
    }
   ],
   "source": [
    "df_25.head()"
   ]
  },
  {
   "cell_type": "code",
   "execution_count": 21,
   "metadata": {},
   "outputs": [
    {
     "name": "stdout",
     "output_type": "stream",
     "text": [
      "<class 'pandas.core.frame.DataFrame'>\n",
      "RangeIndex: 658 entries, 0 to 657\n",
      "Data columns (total 4 columns):\n",
      " #   Column     Non-Null Count  Dtype                        \n",
      "---  ------     --------------  -----                        \n",
      " 0   time       658 non-null    datetime64[ns, SimpleTZ(\"Z\")]\n",
      " 1   latitude   658 non-null    float64                      \n",
      " 2   Longitude  658 non-null    float64                      \n",
      " 3   elevation  658 non-null    float64                      \n",
      "dtypes: datetime64[ns, SimpleTZ(\"Z\")](1), float64(3)\n",
      "memory usage: 20.7 KB\n"
     ]
    }
   ],
   "source": [
    "df_25.info()"
   ]
  },
  {
   "cell_type": "code",
   "execution_count": null,
   "metadata": {},
   "outputs": [],
   "source": []
  }
 ],
 "metadata": {
  "kernelspec": {
   "display_name": "Python 3",
   "language": "python",
   "name": "python3"
  },
  "language_info": {
   "codemirror_mode": {
    "name": "ipython",
    "version": 3
   },
   "file_extension": ".py",
   "mimetype": "text/x-python",
   "name": "python",
   "nbconvert_exporter": "python",
   "pygments_lexer": "ipython3",
   "version": "3.8.3"
  },
  "orig_nbformat": 4,
  "vscode": {
   "interpreter": {
    "hash": "e0144baad0ecee903f108a3e46e51ceadd7da3fc904cfa79747d813b61464b4e"
   }
  }
 },
 "nbformat": 4,
 "nbformat_minor": 2
}
